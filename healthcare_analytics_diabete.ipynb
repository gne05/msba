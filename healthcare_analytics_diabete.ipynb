{
  "nbformat": 4,
  "nbformat_minor": 0,
  "metadata": {
    "colab": {
      "provenance": []
    },
    "kernelspec": {
      "name": "python3",
      "display_name": "Python 3"
    },
    "language_info": {
      "name": "python"
    }
  },
  "cells": [
    {
      "cell_type": "markdown",
      "source": [
        "# Exploratory Data Analysis"
      ],
      "metadata": {
        "id": "ooVaZLOC4cD0"
      }
    },
    {
      "cell_type": "code",
      "source": [
        "#Import the required libraries\n",
        "import pandas as pd\n",
        "import numpy as np"
      ],
      "metadata": {
        "id": "bNMjuCtu4d0X"
      },
      "execution_count": 6,
      "outputs": []
    },
    {
      "cell_type": "markdown",
      "source": [
        "## Import the Dataset"
      ],
      "metadata": {
        "id": "l0sgF_iW6zY0"
      }
    },
    {
      "cell_type": "code",
      "source": [
        "#Mount the drive to read the file\n",
        "from google.colab import drive\n",
        "\n",
        "drive.mount('/content/drive')"
      ],
      "metadata": {
        "colab": {
          "base_uri": "https://localhost:8080/"
        },
        "id": "xAPPPU4_mJya",
        "outputId": "574c1d7a-c395-413e-fe64-c3d1533d1e75"
      },
      "execution_count": 11,
      "outputs": [
        {
          "output_type": "stream",
          "name": "stdout",
          "text": [
            "Mounted at /content/drive\n"
          ]
        }
      ]
    },
    {
      "cell_type": "code",
      "source": [
        "#Import the dataset and check the first few rows\n",
        "data = pd.read_csv('/content/drive/MyDrive/diabetes_data.csv')\n",
        "print(data.head(5))\n",
        "\n",
        "#Statistical summary exploration of the numerical features \n",
        "print(data.describe())\n",
        "\n",
        "#Check what is the type of each feature\n",
        "print(data.dtypes)"
      ],
      "metadata": {
        "colab": {
          "base_uri": "https://localhost:8080/"
        },
        "id": "inh6e_LC61VH",
        "outputId": "f087424b-8bcd-473d-9be9-b24b234f4ea5"
      },
      "execution_count": 17,
      "outputs": [
        {
          "output_type": "stream",
          "name": "stdout",
          "text": [
            "    Age  Sex  HighChol  CholCheck   BMI  Smoker  HeartDiseaseorAttack  \\\n",
            "0   4.0  1.0       0.0        1.0  26.0     0.0                   0.0   \n",
            "1  12.0  1.0       1.0        1.0  26.0     1.0                   0.0   \n",
            "2  13.0  1.0       0.0        1.0  26.0     0.0                   0.0   \n",
            "3  11.0  1.0       1.0        1.0  28.0     1.0                   0.0   \n",
            "4   8.0  0.0       0.0        1.0  29.0     1.0                   0.0   \n",
            "\n",
            "   PhysActivity  Fruits  Veggies  HvyAlcoholConsump  GenHlth  MentHlth  \\\n",
            "0           1.0     0.0      1.0                0.0      3.0       5.0   \n",
            "1           0.0     1.0      0.0                0.0      3.0       0.0   \n",
            "2           1.0     1.0      1.0                0.0      1.0       0.0   \n",
            "3           1.0     1.0      1.0                0.0      3.0       0.0   \n",
            "4           1.0     1.0      1.0                0.0      2.0       0.0   \n",
            "\n",
            "   PhysHlth  DiffWalk  Stroke  HighBP  Diabetes  \n",
            "0      30.0       0.0     0.0     1.0       0.0  \n",
            "1       0.0       0.0     1.0     1.0       0.0  \n",
            "2      10.0       0.0     0.0     0.0       0.0  \n",
            "3       3.0       0.0     0.0     1.0       0.0  \n",
            "4       0.0       0.0     0.0     0.0       0.0  \n",
            "                Age           Sex      HighChol     CholCheck           BMI  \\\n",
            "count  70692.000000  70692.000000  70692.000000  70692.000000  70692.000000   \n",
            "mean       8.584055      0.456997      0.525703      0.975259     29.856985   \n",
            "std        2.852153      0.498151      0.499342      0.155336      7.113954   \n",
            "min        1.000000      0.000000      0.000000      0.000000     12.000000   \n",
            "25%        7.000000      0.000000      0.000000      1.000000     25.000000   \n",
            "50%        9.000000      0.000000      1.000000      1.000000     29.000000   \n",
            "75%       11.000000      1.000000      1.000000      1.000000     33.000000   \n",
            "max       13.000000      1.000000      1.000000      1.000000     98.000000   \n",
            "\n",
            "             Smoker  HeartDiseaseorAttack  PhysActivity        Fruits  \\\n",
            "count  70692.000000          70692.000000  70692.000000  70692.000000   \n",
            "mean       0.475273              0.147810      0.703036      0.611795   \n",
            "std        0.499392              0.354914      0.456924      0.487345   \n",
            "min        0.000000              0.000000      0.000000      0.000000   \n",
            "25%        0.000000              0.000000      0.000000      0.000000   \n",
            "50%        0.000000              0.000000      1.000000      1.000000   \n",
            "75%        1.000000              0.000000      1.000000      1.000000   \n",
            "max        1.000000              1.000000      1.000000      1.000000   \n",
            "\n",
            "            Veggies  HvyAlcoholConsump       GenHlth      MentHlth  \\\n",
            "count  70692.000000       70692.000000  70692.000000  70692.000000   \n",
            "mean       0.788774           0.042721      2.837082      3.752037   \n",
            "std        0.408181           0.202228      1.113565      8.155627   \n",
            "min        0.000000           0.000000      1.000000      0.000000   \n",
            "25%        1.000000           0.000000      2.000000      0.000000   \n",
            "50%        1.000000           0.000000      3.000000      0.000000   \n",
            "75%        1.000000           0.000000      4.000000      2.000000   \n",
            "max        1.000000           1.000000      5.000000     30.000000   \n",
            "\n",
            "           PhysHlth      DiffWalk        Stroke  High_blood_pressure  \\\n",
            "count  70692.000000  70692.000000  70692.000000         70692.000000   \n",
            "mean       5.810417      0.252730      0.062171             0.563458   \n",
            "std       10.062261      0.434581      0.241468             0.495960   \n",
            "min        0.000000      0.000000      0.000000             0.000000   \n",
            "25%        0.000000      0.000000      0.000000             0.000000   \n",
            "50%        0.000000      0.000000      0.000000             1.000000   \n",
            "75%        6.000000      1.000000      0.000000             1.000000   \n",
            "max       30.000000      1.000000      1.000000             1.000000   \n",
            "\n",
            "           Diabetes  \n",
            "count  70692.000000  \n",
            "mean       0.500000  \n",
            "std        0.500004  \n",
            "min        0.000000  \n",
            "25%        0.000000  \n",
            "50%        0.500000  \n",
            "75%        1.000000  \n",
            "max        1.000000  \n",
            "Age                     float64\n",
            "Sex                     float64\n",
            "HighChol                float64\n",
            "CholCheck               float64\n",
            "BMI                     float64\n",
            "Smoker                  float64\n",
            "HeartDiseaseorAttack    float64\n",
            "PhysActivity            float64\n",
            "Fruits                  float64\n",
            "Veggies                 float64\n",
            "HvyAlcoholConsump       float64\n",
            "GenHlth                 float64\n",
            "MentHlth                float64\n",
            "PhysHlth                float64\n",
            "DiffWalk                float64\n",
            "Stroke                  float64\n",
            "High_blood_pressure     float64\n",
            "Diabetes                float64\n",
            "dtype: object\n"
          ]
        }
      ]
    },
    {
      "cell_type": "code",
      "source": [
        "#Check for any imbalance in all the binary and categorical variables\n",
        "data2 = data[['Sex','HighChol','CholCheck','Smoker','HeartDiseaseorAttack','PhysActivity','Fruits','Veggies','HvyAlcoholConsump','GenHlth','DiffWalk','Stroke','High_blood_pressure','Diabetes']]\n",
        "for column in data2.columns:\n",
        "    value_counts = data2[column].value_counts()\n",
        "    print(f\"Value counts for feature '{column}':\\n{value_counts}\\n\")"
      ],
      "metadata": {
        "colab": {
          "base_uri": "https://localhost:8080/"
        },
        "id": "_k8X2jjx9SOW",
        "outputId": "cf4d3669-b057-4f93-db93-a0264536be63"
      },
      "execution_count": 18,
      "outputs": [
        {
          "output_type": "stream",
          "name": "stdout",
          "text": [
            "Value counts for feature 'Sex':\n",
            "0.0    38386\n",
            "1.0    32306\n",
            "Name: Sex, dtype: int64\n",
            "\n",
            "Value counts for feature 'HighChol':\n",
            "1.0    37163\n",
            "0.0    33529\n",
            "Name: HighChol, dtype: int64\n",
            "\n",
            "Value counts for feature 'CholCheck':\n",
            "1.0    68943\n",
            "0.0     1749\n",
            "Name: CholCheck, dtype: int64\n",
            "\n",
            "Value counts for feature 'Smoker':\n",
            "0.0    37094\n",
            "1.0    33598\n",
            "Name: Smoker, dtype: int64\n",
            "\n",
            "Value counts for feature 'HeartDiseaseorAttack':\n",
            "0.0    60243\n",
            "1.0    10449\n",
            "Name: HeartDiseaseorAttack, dtype: int64\n",
            "\n",
            "Value counts for feature 'PhysActivity':\n",
            "1.0    49699\n",
            "0.0    20993\n",
            "Name: PhysActivity, dtype: int64\n",
            "\n",
            "Value counts for feature 'Fruits':\n",
            "1.0    43249\n",
            "0.0    27443\n",
            "Name: Fruits, dtype: int64\n",
            "\n",
            "Value counts for feature 'Veggies':\n",
            "1.0    55760\n",
            "0.0    14932\n",
            "Name: Veggies, dtype: int64\n",
            "\n",
            "Value counts for feature 'HvyAlcoholConsump':\n",
            "0.0    67672\n",
            "1.0     3020\n",
            "Name: HvyAlcoholConsump, dtype: int64\n",
            "\n",
            "Value counts for feature 'GenHlth':\n",
            "3.0    23427\n",
            "2.0    19872\n",
            "4.0    13303\n",
            "1.0     8282\n",
            "5.0     5808\n",
            "Name: GenHlth, dtype: int64\n",
            "\n",
            "Value counts for feature 'DiffWalk':\n",
            "0.0    52826\n",
            "1.0    17866\n",
            "Name: DiffWalk, dtype: int64\n",
            "\n",
            "Value counts for feature 'Stroke':\n",
            "0.0    66297\n",
            "1.0     4395\n",
            "Name: Stroke, dtype: int64\n",
            "\n",
            "Value counts for feature 'High_blood_pressure':\n",
            "1.0    39832\n",
            "0.0    30860\n",
            "Name: High_blood_pressure, dtype: int64\n",
            "\n",
            "Value counts for feature 'Diabetes':\n",
            "0.0    35346\n",
            "1.0    35346\n",
            "Name: Diabetes, dtype: int64\n",
            "\n"
          ]
        }
      ]
    },
    {
      "cell_type": "markdown",
      "source": [
        "It is worth noting that the age feature are based on the international age groups: \n",
        "18-24: 1\n",
        "25-29: 2 ..."
      ],
      "metadata": {
        "id": "fj1OArUTCuK7"
      }
    },
    {
      "cell_type": "code",
      "source": [
        "#Check the number of missing values in each column\n",
        "missing = data.isna().sum() / data.shape[0] * 100\n",
        "print(missing)"
      ],
      "metadata": {
        "colab": {
          "base_uri": "https://localhost:8080/"
        },
        "id": "LNJhFQ4NDrg7",
        "outputId": "42e2cdf8-0c17-4c3f-e217-369b471091bb"
      },
      "execution_count": 19,
      "outputs": [
        {
          "output_type": "stream",
          "name": "stdout",
          "text": [
            "Age                     0.0\n",
            "Sex                     0.0\n",
            "HighChol                0.0\n",
            "CholCheck               0.0\n",
            "BMI                     0.0\n",
            "Smoker                  0.0\n",
            "HeartDiseaseorAttack    0.0\n",
            "PhysActivity            0.0\n",
            "Fruits                  0.0\n",
            "Veggies                 0.0\n",
            "HvyAlcoholConsump       0.0\n",
            "GenHlth                 0.0\n",
            "MentHlth                0.0\n",
            "PhysHlth                0.0\n",
            "DiffWalk                0.0\n",
            "Stroke                  0.0\n",
            "High_blood_pressure     0.0\n",
            "Diabetes                0.0\n",
            "dtype: float64\n"
          ]
        }
      ]
    },
    {
      "cell_type": "markdown",
      "source": [
        "After searching for a logical BMI range, I concluded that the BMI range in the dataset is reasonable and no need to remove any outlier from the dataset."
      ],
      "metadata": {
        "id": "81lIdC-1MmmR"
      }
    }
  ]
}